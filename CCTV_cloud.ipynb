{
  "nbformat": 4,
  "nbformat_minor": 0,
  "metadata": {
    "colab": {
      "name": "CCTV_cloud.ipynb",
      "version": "0.3.2",
      "provenance": [],
      "collapsed_sections": [],
      "toc_visible": true,
      "include_colab_link": true
    },
    "kernelspec": {
      "name": "python3",
      "display_name": "Python 3"
    },
    "accelerator": "GPU"
  },
  "cells": [
    {
      "cell_type": "markdown",
      "metadata": {
        "id": "view-in-github",
        "colab_type": "text"
      },
      "source": [
        "<a href=\"https://colab.research.google.com/github/ScottVinay/Image_detection_of_fingers/blob/master/CCTV_cloud.ipynb\" target=\"_parent\"><img src=\"https://colab.research.google.com/assets/colab-badge.svg\" alt=\"Open In Colab\"/></a>"
      ]
    },
    {
      "metadata": {
        "colab_type": "text",
        "id": "6ncr5xh-3Q64"
      },
      "cell_type": "markdown",
      "source": [
        "<br>\n",
        "<br>\n",
        "\n",
        "***\n",
        "***\n",
        "# &emsp;&emsp;&emsp;&emsp;&emsp;&emsp;&emsp;&emsp;&emsp;&emsp;&emsp;&emsp;&emsp; CCTV\n",
        "***\n",
        "***\n",
        "\n",
        "<br>\n",
        "<br>\n",
        "\n",
        "**Abstract** &emsp;&emsp; Lorem ipsum dolor sit amet, consectetur adipiscing elit, sed do eiusmod tempor incididunt ut labore et dolore magna aliqua. Risus nullam eget felis eget nunc lobortis. Pharetra et ultrices neque ornare aenean euismod. Dui nunc mattis enim ut tellus. Odio morbi quis commodo odio aenean. Sodales neque sodales ut etiam sit. \n",
        "\n",
        "<br>\n",
        "\n",
        "### Links\n",
        "\n",
        "- https://medium.com/@jinilcs/a-simple-keras-model-on-my-laptop-webcam-dda77521e6a0\n",
        "- https://towardsdatascience.com/image-classifier-cats-vs-dogs-with-convolutional-neural-networks-cnns-and-google-colabs-4e9af21ae7a8"
      ]
    },
    {
      "metadata": {
        "id": "eMGa2IRp5-ef",
        "colab_type": "text"
      },
      "cell_type": "markdown",
      "source": [
        "## To do\n",
        "\n",
        "- Choose the cutoff probability for detecting a number of fingers. If none have a high prob, keep measring images until one does.\n",
        "\n",
        "- Black and white instead of colour?\n",
        "\n",
        "- Outlines?"
      ]
    },
    {
      "metadata": {
        "id": "V9cXaflI6bCy",
        "colab_type": "text"
      },
      "cell_type": "markdown",
      "source": [
        "## Set-up"
      ]
    },
    {
      "metadata": {
        "colab_type": "code",
        "id": "KPBw6xJz3Q65",
        "outputId": "7110199c-b01f-439f-befd-765c61363094",
        "colab": {
          "base_uri": "https://localhost:8080/",
          "height": 34
        }
      },
      "cell_type": "code",
      "source": [
        "import numpy as np\n",
        "from numpy import array as na\n",
        "from matplotlib import pyplot as plt\n",
        "%matplotlib inline\n",
        "\n",
        "import sys\n",
        "import os\n",
        "import cv2\n",
        "from PIL import Image\n",
        "\n",
        "from google.colab import drive, files\n",
        "drive.mount('/content/drive', force_remount=True)\n",
        "\n",
        "from tensorflow.keras.layers import Dropout, Dense, Input\n",
        "from tensorflow.keras.layers import Conv2D, MaxPooling2D, Flatten\n",
        "from tensorflow.keras import optimizers\n",
        "from tensorflow.keras.preprocessing.image import ImageDataGenerator\n",
        "from tensorflow.keras.models import Model, load_model\n",
        "from tensorflow.keras.callbacks import ModelCheckpoint\n",
        "\n",
        "#import warnings\n",
        "#warnings.filterwarnings('ignore')\n",
        "#os.environ['TF_CPP_MIN_LOG_LEVEL'] = '3'"
      ],
      "execution_count": 9,
      "outputs": [
        {
          "output_type": "stream",
          "text": [
            "Mounted at /content/drive\n"
          ],
          "name": "stdout"
        }
      ]
    },
    {
      "metadata": {
        "colab_type": "code",
        "id": "rO72dd723Q7O",
        "colab": {}
      },
      "cell_type": "code",
      "source": [
        "imSize = 128\n",
        "\n",
        "def createModel(typee='cat'):\n",
        "    if type(typee)!=type('') or typee.lower() not in ['bin','cat']:\n",
        "        print('Type error')\n",
        "        return 0\n",
        "    activ = 'relu'\n",
        "    inputs = Input(name='inputs',shape=[imSize,imSize,1])\n",
        "    layer = Conv2D(32,4,name='conv1',activation=activ)(inputs)\n",
        "    layer = MaxPooling2D(2,2)(layer)\n",
        "    layer = Conv2D(64,4,name='conv2',activation=activ)(layer)\n",
        "    layer = MaxPooling2D(2,2)(layer)\n",
        "    layer = Conv2D(128,4,name='conv3',activation=activ)(layer)\n",
        "    layer = MaxPooling2D(2,2)(layer)\n",
        "    layer = Dropout(0.5)(layer)\n",
        "    layer = Flatten()(layer)\n",
        "    layer = Dense(64,activation=activ)(layer)\n",
        "    if typee.lower()=='bin':\n",
        "        layer = Dense(1,activation='sigmoid')(layer)\n",
        "        modelLoss = 'binary_crossentropy' \n",
        "    elif typee.lower()=='cat':\n",
        "        layer = Dense(5,activation='softmax')(layer)\n",
        "        modelLoss = 'categorical_crossentropy'\n",
        "    model = Model(inputs=inputs,outputs=layer)\n",
        "    model.compile(optimizer='adam', loss=modelLoss, metrics=['acc'])\n",
        "    return model\n",
        "  \n",
        "model = createModel()"
      ],
      "execution_count": 0,
      "outputs": []
    },
    {
      "metadata": {
        "id": "fUzhV7R4vWAz",
        "colab_type": "code",
        "outputId": "525c6202-135e-4927-fcff-9c27335a0e46",
        "colab": {
          "base_uri": "https://localhost:8080/",
          "height": 490
        }
      },
      "cell_type": "code",
      "source": [
        "datagen_tr = ImageDataGenerator(\n",
        "    rescale=1./255,\n",
        "    rotation_range=10,\n",
        "    width_shift_range=0.2,\n",
        "    height_shift_range=0.2,\n",
        "    shear_range=0.2,\n",
        "    zoom_range=0.2,\n",
        "    horizontal_flip=True)\n",
        "datagen_cv = ImageDataGenerator(rescale=1./255)\n",
        "\n",
        "path = '/content/drive/My Drive/Python scripts/Data Science/CCTV/'\n",
        "\n",
        "gen_tr = datagen_tr.flow_from_directory(path+'im_data/train',\n",
        "                                        target_size=(imSize,imSize),\n",
        "                                        color_mode='grayscale',\n",
        "                                        batch_size=10,\n",
        "                                        class_mode=model.loss[:model.loss.index('_')])\n",
        "gen_cv = datagen_cv.flow_from_directory(path+'im_data/cv',\n",
        "                                        target_size=(imSize,imSize),\n",
        "                                        color_mode='grayscale',\n",
        "                                        batch_size=10,\n",
        "                                        class_mode=model.loss[:model.loss.index('_')])\n",
        "\n",
        "checkpoint_path = \"training_1/cp.ckpt\"\n",
        "checkpoint_dir = os.path.dirname(checkpoint_path)\n",
        "\n",
        "cp_callback = ModelCheckpoint(checkpoint_path, \n",
        "                              save_weights_only=True,\n",
        "                              verbose=False)\n",
        "\n",
        "#!ls {checkpoint_dir}\n",
        "#model.load_weights(checkpoint_path)\n",
        "\n",
        "gen_tr.class_indices\n",
        "gen_cv.class_indices"
      ],
      "execution_count": 12,
      "outputs": [
        {
          "output_type": "error",
          "ename": "FileNotFoundError",
          "evalue": "ignored",
          "traceback": [
            "\u001b[0;31m---------------------------------------------------------------------------\u001b[0m",
            "\u001b[0;31mFileNotFoundError\u001b[0m                         Traceback (most recent call last)",
            "\u001b[0;32m<ipython-input-12-be7d1d1f1059>\u001b[0m in \u001b[0;36m<module>\u001b[0;34m()\u001b[0m\n\u001b[1;32m     15\u001b[0m                                         \u001b[0mcolor_mode\u001b[0m\u001b[0;34m=\u001b[0m\u001b[0;34m'grayscale'\u001b[0m\u001b[0;34m,\u001b[0m\u001b[0;34m\u001b[0m\u001b[0;34m\u001b[0m\u001b[0m\n\u001b[1;32m     16\u001b[0m                                         \u001b[0mbatch_size\u001b[0m\u001b[0;34m=\u001b[0m\u001b[0;36m10\u001b[0m\u001b[0;34m,\u001b[0m\u001b[0;34m\u001b[0m\u001b[0;34m\u001b[0m\u001b[0m\n\u001b[0;32m---> 17\u001b[0;31m                                         class_mode=model.loss[:model.loss.index('_')])\n\u001b[0m\u001b[1;32m     18\u001b[0m gen_cv = datagen_cv.flow_from_directory(path+'im_data/cv',\n\u001b[1;32m     19\u001b[0m                                         \u001b[0mtarget_size\u001b[0m\u001b[0;34m=\u001b[0m\u001b[0;34m(\u001b[0m\u001b[0mimSize\u001b[0m\u001b[0;34m,\u001b[0m\u001b[0mimSize\u001b[0m\u001b[0;34m)\u001b[0m\u001b[0;34m,\u001b[0m\u001b[0;34m\u001b[0m\u001b[0;34m\u001b[0m\u001b[0m\n",
            "\u001b[0;32m/usr/local/lib/python3.6/dist-packages/keras_preprocessing/image/image_data_generator.py\u001b[0m in \u001b[0;36mflow_from_directory\u001b[0;34m(self, directory, target_size, color_mode, classes, class_mode, batch_size, shuffle, seed, save_to_dir, save_prefix, save_format, follow_links, subset, interpolation)\u001b[0m\n\u001b[1;32m    536\u001b[0m             \u001b[0mfollow_links\u001b[0m\u001b[0;34m=\u001b[0m\u001b[0mfollow_links\u001b[0m\u001b[0;34m,\u001b[0m\u001b[0;34m\u001b[0m\u001b[0;34m\u001b[0m\u001b[0m\n\u001b[1;32m    537\u001b[0m             \u001b[0msubset\u001b[0m\u001b[0;34m=\u001b[0m\u001b[0msubset\u001b[0m\u001b[0;34m,\u001b[0m\u001b[0;34m\u001b[0m\u001b[0;34m\u001b[0m\u001b[0m\n\u001b[0;32m--> 538\u001b[0;31m             \u001b[0minterpolation\u001b[0m\u001b[0;34m=\u001b[0m\u001b[0minterpolation\u001b[0m\u001b[0;34m\u001b[0m\u001b[0;34m\u001b[0m\u001b[0m\n\u001b[0m\u001b[1;32m    539\u001b[0m         )\n\u001b[1;32m    540\u001b[0m \u001b[0;34m\u001b[0m\u001b[0m\n",
            "\u001b[0;32m/usr/local/lib/python3.6/dist-packages/keras_preprocessing/image/directory_iterator.py\u001b[0m in \u001b[0;36m__init__\u001b[0;34m(self, directory, image_data_generator, target_size, color_mode, classes, class_mode, batch_size, shuffle, seed, data_format, save_to_dir, save_prefix, save_format, follow_links, subset, interpolation, dtype)\u001b[0m\n\u001b[1;32m    103\u001b[0m         \u001b[0;32mif\u001b[0m \u001b[0;32mnot\u001b[0m \u001b[0mclasses\u001b[0m\u001b[0;34m:\u001b[0m\u001b[0;34m\u001b[0m\u001b[0;34m\u001b[0m\u001b[0m\n\u001b[1;32m    104\u001b[0m             \u001b[0mclasses\u001b[0m \u001b[0;34m=\u001b[0m \u001b[0;34m[\u001b[0m\u001b[0;34m]\u001b[0m\u001b[0;34m\u001b[0m\u001b[0;34m\u001b[0m\u001b[0m\n\u001b[0;32m--> 105\u001b[0;31m             \u001b[0;32mfor\u001b[0m \u001b[0msubdir\u001b[0m \u001b[0;32min\u001b[0m \u001b[0msorted\u001b[0m\u001b[0;34m(\u001b[0m\u001b[0mos\u001b[0m\u001b[0;34m.\u001b[0m\u001b[0mlistdir\u001b[0m\u001b[0;34m(\u001b[0m\u001b[0mdirectory\u001b[0m\u001b[0;34m)\u001b[0m\u001b[0;34m)\u001b[0m\u001b[0;34m:\u001b[0m\u001b[0;34m\u001b[0m\u001b[0;34m\u001b[0m\u001b[0m\n\u001b[0m\u001b[1;32m    106\u001b[0m                 \u001b[0;32mif\u001b[0m \u001b[0mos\u001b[0m\u001b[0;34m.\u001b[0m\u001b[0mpath\u001b[0m\u001b[0;34m.\u001b[0m\u001b[0misdir\u001b[0m\u001b[0;34m(\u001b[0m\u001b[0mos\u001b[0m\u001b[0;34m.\u001b[0m\u001b[0mpath\u001b[0m\u001b[0;34m.\u001b[0m\u001b[0mjoin\u001b[0m\u001b[0;34m(\u001b[0m\u001b[0mdirectory\u001b[0m\u001b[0;34m,\u001b[0m \u001b[0msubdir\u001b[0m\u001b[0;34m)\u001b[0m\u001b[0;34m)\u001b[0m\u001b[0;34m:\u001b[0m\u001b[0;34m\u001b[0m\u001b[0;34m\u001b[0m\u001b[0m\n\u001b[1;32m    107\u001b[0m                     \u001b[0mclasses\u001b[0m\u001b[0;34m.\u001b[0m\u001b[0mappend\u001b[0m\u001b[0;34m(\u001b[0m\u001b[0msubdir\u001b[0m\u001b[0;34m)\u001b[0m\u001b[0;34m\u001b[0m\u001b[0;34m\u001b[0m\u001b[0m\n",
            "\u001b[0;31mFileNotFoundError\u001b[0m: [Errno 2] No such file or directory: '/content/drive/My Drive/Python scripts/Data Science/CCTV/im_data/train'"
          ]
        }
      ]
    },
    {
      "metadata": {
        "id": "szV-Qd1xJCuI",
        "colab_type": "text"
      },
      "cell_type": "markdown",
      "source": [
        "## Training"
      ]
    },
    {
      "metadata": {
        "colab_type": "code",
        "outputId": "a6e65ba0-b701-49c5-ada6-eef277710df6",
        "id": "uld235zt5mps",
        "colab": {
          "base_uri": "https://localhost:8080/",
          "height": 547
        }
      },
      "cell_type": "code",
      "source": [
        "hist = model.fit_generator(gen_tr, epochs=5, \n",
        "                    validation_data=gen_cv, validation_steps=7, workers=4, callbacks=[cp_callback])\n",
        "#model.save('keras_CCTV_model_01.h5')"
      ],
      "execution_count": 0,
      "outputs": [
        {
          "output_type": "stream",
          "text": [
            "Epoch 1/5\n",
            "136/136 [==============================] - 20s 146ms/step - loss: 1.3643 - acc: 0.2765\n",
            "WARNING:tensorflow:This model was compiled with a Keras optimizer (<tensorflow.python.keras.optimizers.Adam object at 0x7fdfee7c7f98>) but is being saved in TensorFlow format with `save_weights`. The model's weights will be saved, but unlike with TensorFlow optimizers in the TensorFlow format the optimizer's state will not be saved.\n",
            "\n",
            "Consider using a TensorFlow optimizer from `tf.train`.\n",
            "952/952 [==============================] - 177s 186ms/step - loss: 1.3750 - acc: 0.2666 - val_loss: 1.3643 - val_acc: 0.2765\n",
            "Epoch 2/5\n",
            "136/136 [==============================] - 4s 27ms/step - loss: 1.3560 - acc: 0.2765\n",
            "WARNING:tensorflow:This model was compiled with a Keras optimizer (<tensorflow.python.keras.optimizers.Adam object at 0x7fdfee7c7f98>) but is being saved in TensorFlow format with `save_weights`. The model's weights will be saved, but unlike with TensorFlow optimizers in the TensorFlow format the optimizer's state will not be saved.\n",
            "\n",
            "Consider using a TensorFlow optimizer from `tf.train`.\n",
            "952/952 [==============================] - 59s 62ms/step - loss: 1.3651 - acc: 0.2712 - val_loss: 1.3560 - val_acc: 0.2765\n",
            "Epoch 3/5\n",
            "136/136 [==============================] - 3s 24ms/step - loss: 1.3555 - acc: 0.2787\n",
            "WARNING:tensorflow:This model was compiled with a Keras optimizer (<tensorflow.python.keras.optimizers.Adam object at 0x7fdfee7c7f98>) but is being saved in TensorFlow format with `save_weights`. The model's weights will be saved, but unlike with TensorFlow optimizers in the TensorFlow format the optimizer's state will not be saved.\n",
            "\n",
            "Consider using a TensorFlow optimizer from `tf.train`.\n",
            "952/952 [==============================] - 60s 63ms/step - loss: 1.3635 - acc: 0.2742 - val_loss: 1.3555 - val_acc: 0.2787\n",
            "Epoch 4/5\n",
            "136/136 [==============================] - 3s 25ms/step - loss: 1.3548 - acc: 0.2824\n",
            "WARNING:tensorflow:This model was compiled with a Keras optimizer (<tensorflow.python.keras.optimizers.Adam object at 0x7fdfee7c7f98>) but is being saved in TensorFlow format with `save_weights`. The model's weights will be saved, but unlike with TensorFlow optimizers in the TensorFlow format the optimizer's state will not be saved.\n",
            "\n",
            "Consider using a TensorFlow optimizer from `tf.train`.\n",
            "952/952 [==============================] - 60s 63ms/step - loss: 1.3613 - acc: 0.2721 - val_loss: 1.3548 - val_acc: 0.2824\n",
            "Epoch 5/5\n",
            "136/136 [==============================] - 3s 25ms/step - loss: 1.3190 - acc: 0.3801\n",
            "WARNING:tensorflow:This model was compiled with a Keras optimizer (<tensorflow.python.keras.optimizers.Adam object at 0x7fdfee7c7f98>) but is being saved in TensorFlow format with `save_weights`. The model's weights will be saved, but unlike with TensorFlow optimizers in the TensorFlow format the optimizer's state will not be saved.\n",
            "\n",
            "Consider using a TensorFlow optimizer from `tf.train`.\n",
            "952/952 [==============================] - 60s 63ms/step - loss: 1.3535 - acc: 0.2911 - val_loss: 1.3190 - val_acc: 0.3801\n"
          ],
          "name": "stdout"
        }
      ]
    },
    {
      "metadata": {
        "id": "32YVoHe3tuat",
        "colab_type": "code",
        "outputId": "b3add526-17dd-4f64-e32b-f2d4d2343175",
        "colab": {
          "base_uri": "https://localhost:8080/",
          "height": 248
        }
      },
      "cell_type": "code",
      "source": [
        "im = cv2.imread('/content/drive/My Drive/Python scripts/Data Science/CCTV/data/train/finger_3/100.jpg')\n",
        "im = cv2.imread(path+'data/test/finger_3/{}.jpg'.format(500),cv2.IMREAD_GRAYSCALE)\n",
        "plt.imshow(im, cmap = 'gray', interpolation = 'bicubic')\n",
        "plt.xticks([]);\n",
        "plt.yticks([]);\n",
        "plt.show()"
      ],
      "execution_count": 0,
      "outputs": [
        {
          "output_type": "display_data",
          "data": {
            "image/png": "[encoded data removed]",
            "text/plain": [
              "<Figure size 432x288 with 1 Axes>"
            ]
          },
          "metadata": {
            "tags": []
          }
        }
      ]
    },
    {
      "metadata": {
        "id": "B0wqTKgZMjhR",
        "colab_type": "code",
        "outputId": "2a1340ed-607d-443e-d2c9-19b31daf9684",
        "colab": {
          "base_uri": "https://localhost:8080/",
          "height": 357
        }
      },
      "cell_type": "code",
      "source": [
        "for i in range(1,501,25):\n",
        "  path = '/content/drive/My Drive/Python scripts/Data Science/CCTV/'\n",
        "  X = cv2.imread(path+'data/test/finger_4/{}.jpg'.format(i),cv2.IMREAD_GRAYSCALE)\n",
        "  X = np.expand_dims(X, axis=0)\n",
        "  X = np.expand_dims(X, axis=3)\n",
        "  yp = model.predict(X)\n",
        "  print(yp)"
      ],
      "execution_count": 0,
      "outputs": [
        {
          "output_type": "stream",
          "text": [
            "[[1. 0. 0. 0.]]\n",
            "[[0. 0. 0. 1.]]\n",
            "[[0. 0. 0. 1.]]\n",
            "[[1. 0. 0. 0.]]\n",
            "[[1. 0. 0. 0.]]\n",
            "[[1. 0. 0. 0.]]\n",
            "[[1. 0. 0. 0.]]\n",
            "[[1. 0. 0. 0.]]\n",
            "[[1. 0. 0. 0.]]\n",
            "[[1. 0. 0. 0.]]\n",
            "[[1. 0. 0. 0.]]\n",
            "[[1. 0. 0. 0.]]\n",
            "[[1. 0. 0. 0.]]\n",
            "[[1. 0. 0. 0.]]\n",
            "[[1. 0. 0. 0.]]\n",
            "[[1. 0. 0. 0.]]\n",
            "[[1. 0. 0. 0.]]\n",
            "[[1. 0. 0. 0.]]\n",
            "[[1. 0. 0. 0.]]\n",
            "[[1. 0. 0. 0.]]\n"
          ],
          "name": "stdout"
        }
      ]
    },
    {
      "metadata": {
        "id": "IouhjD5NNNgU",
        "colab_type": "code",
        "outputId": "16403489-7cee-459b-8c07-749c7d36e8b4",
        "colab": {
          "base_uri": "https://localhost:8080/",
          "height": 34
        }
      },
      "cell_type": "code",
      "source": [
        "np.argmax(yp)"
      ],
      "execution_count": 0,
      "outputs": [
        {
          "output_type": "execute_result",
          "data": {
            "text/plain": [
              "0"
            ]
          },
          "metadata": {
            "tags": []
          },
          "execution_count": 82
        }
      ]
    },
    {
      "metadata": {
        "id": "oJzD1HCn42vd",
        "colab_type": "text"
      },
      "cell_type": "markdown",
      "source": [
        "## Localisation"
      ]
    },
    {
      "metadata": {
        "id": "QA4_Y5HmMQ2x",
        "colab_type": "code",
        "colab": {}
      },
      "cell_type": "code",
      "source": [
        "\n",
        "\n",
        "\n",
        "\n",
        "\n",
        "\n",
        "\n",
        "\n",
        "\n",
        "\n",
        "\n",
        "\n",
        "\n",
        "\n",
        "\n",
        "\n",
        "\n",
        "\n",
        "\n"
      ],
      "execution_count": 0,
      "outputs": []
    }
  ]
}